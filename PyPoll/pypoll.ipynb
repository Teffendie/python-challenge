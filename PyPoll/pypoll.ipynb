{
 "cells": [
  {
   "cell_type": "code",
   "execution_count": 6,
   "metadata": {},
   "outputs": [
    {
     "name": "stdout",
     "output_type": "stream",
     "text": [
      "Election Results\n",
      "----------------------------\n",
      "Total Votes: 3521001\n",
      "----------------------------\n",
      "Khan: 63% (2218231)\n",
      "Correy: 20% (704200)\n",
      "Li: 14% (492940)\n",
      "O'Tooley: 3% (105630)\n",
      "----------------------------\n",
      "Winner: Khan\n",
      "\n",
      "----------------------------\n"
     ]
    }
   ],
   "source": [
    "import os\n",
    "import csv\n",
    "import sys\n",
    "import collections\n",
    "\n",
    "pypoll_csv = 'Resources/election_data.csv'\n",
    "\n",
    "def totalVotes(filename):\n",
    "    with open(filename) as f:\n",
    "        csvreader = csv.reader(f, delimiter=\",\")\n",
    "        next(csvreader, None)\n",
    "        return (sum(1 for line in csvreader))\n",
    "        \n",
    "#totalVotes(pypoll_csv)\n",
    "#==============================================================\n",
    "\n",
    "with open(pypoll_csv) as f:\n",
    "    csvreader = csv.reader(f, delimiter=\",\")\n",
    "    next(csvreader, None)\n",
    "    candidates = []\n",
    "\n",
    "    for row in csvreader:\n",
    "        candidate = row[2]\n",
    "        candidates.append(candidate)\n",
    "        \n",
    "    counter = collections.Counter(candidates)\n",
    "\n",
    "        \n",
    "p = \"Election Results\"\n",
    "l = \"----------------------------\"\n",
    "print(p)\n",
    "print(l)\n",
    "print(f'Total Votes: {totalVotes(pypoll_csv)}')\n",
    "print(l)\n",
    "\n",
    "\n",
    "for i,j in counter.items():\n",
    "    #print(i,j)\n",
    "    x = str(round(float(j/totalVotes(pypoll_csv)*100)))+'%'\n",
    "    print(f'{i}: {x} ({j})')\n",
    "        \n",
    "\n",
    "        \n",
    "for c,d in counter.most_common(1):\n",
    "    print(\"----------------------------\")\n",
    "    print(f'Winner: {c}\\n')\n",
    "    print(\"----------------------------\")    \n",
    " \n",
    "with open(\"PyPoll_Output.txt\", \"w\") as text_file:\n",
    "    line1 = \"\"\"\n",
    "Election Results\n",
    "----------------------------\n",
    "    \"\"\"\n",
    "    line2 = f'Total Votes: {totalVotes(pypoll_csv)}'\n",
    "    line3 = \"----------------------------\"\n",
    "    text_file.write('{}\\n{}\\n{}\\n'.format(line1,line2,line3))                   \n",
    "\n",
    "\n",
    "    \n",
    "with open(\"PyPoll_Output.txt\", \"a\") as text_file:\n",
    "    for i,j in counter.items():\n",
    "        x = str(round(float(j/totalVotes(pypoll_csv)*100)))+'%'\n",
    "        text_file.write(f'{i}: {x} ({j})\\n')            \n",
    "\n",
    "with open(\"PyPoll_Output.txt\", \"a\") as text_file:\n",
    "    for c,d in counter.most_common(1):\n",
    "        text_file.write('----------------------------\\n')\n",
    "        text_file.write(f'Winner: {c}\\n')\n",
    "        text_file.write('----------------------------\\n')"
   ]
  },
  {
   "cell_type": "code",
   "execution_count": null,
   "metadata": {},
   "outputs": [],
   "source": []
  }
 ],
 "metadata": {
  "kernelspec": {
   "display_name": "Python 3",
   "language": "python",
   "name": "python3"
  },
  "language_info": {
   "codemirror_mode": {
    "name": "ipython",
    "version": 3
   },
   "file_extension": ".py",
   "mimetype": "text/x-python",
   "name": "python",
   "nbconvert_exporter": "python",
   "pygments_lexer": "ipython3",
   "version": "3.7.1"
  }
 },
 "nbformat": 4,
 "nbformat_minor": 2
}
